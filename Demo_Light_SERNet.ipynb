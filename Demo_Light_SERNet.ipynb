{
  "nbformat": 4,
  "nbformat_minor": 0,
  "metadata": {
    "colab": {
      "name": "Demo-Light-SERNet.ipynb",
      "provenance": [],
      "collapsed_sections": []
    },
    "kernelspec": {
      "name": "python3",
      "display_name": "Python 3"
    },
    "language_info": {
      "name": "python"
    },
    "accelerator": "GPU"
  },
  "cells": [
    {
      "cell_type": "code",
      "source": [
        "from IPython.display import clear_output"
      ],
      "metadata": {
        "id": "_i_LBBK1lmar"
      },
      "execution_count": 1,
      "outputs": []
    },
    {
      "cell_type": "code",
      "execution_count": null,
      "metadata": {
        "id": "r2LQsvnPkoJI"
      },
      "outputs": [],
      "source": [
        "!wget -O EMO-DB.zip http://emodb.bilderbar.info/download/download.zip"
      ]
    },
    {
      "cell_type": "code",
      "source": [
        "!git clone https://github.com/AryaAftab/LIGHT-SERNET.git\n",
        "\n",
        "!mv /content/EMO-DB.zip /content/LIGHT-SERNET/data\n",
        "!unzip /content/LIGHT-SERNET/data/EMO-DB.zip -d /content/LIGHT-SERNET/data/EMO-DB\n",
        "\n",
        "clear_output()"
      ],
      "metadata": {
        "id": "OM8oeS2akwiG"
      },
      "execution_count": 3,
      "outputs": []
    },
    {
      "cell_type": "code",
      "source": [
        "import os\n",
        "\n",
        "os.chdir(\"/content/LIGHT-SERNET\")"
      ],
      "metadata": {
        "id": "_V9x3Nv7k-Oa"
      },
      "execution_count": 4,
      "outputs": []
    },
    {
      "cell_type": "code",
      "source": [
        "!python train.py -dn \"EMO-DB\" -id 3 -at \"all\" -ln \"cross_entropy\" -v 2 -it \"mfcc\""
      ],
      "metadata": {
        "id": "4r6j1jhqmT80"
      },
      "execution_count": null,
      "outputs": []
    },
    {
      "cell_type": "code",
      "source": [
        ""
      ],
      "metadata": {
        "id": "05cC19rtIUL2"
      },
      "execution_count": null,
      "outputs": []
    }
  ]
}